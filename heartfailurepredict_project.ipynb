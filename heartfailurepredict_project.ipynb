{
 "cells": [
  {
   "cell_type": "markdown",
   "id": "b5511d4f-cef7-47d0-8bf0-7df8ed5b6639",
   "metadata": {},
   "source": [
    "# Mortality Caused by Heart Failure"
   ]
  },
  {
   "cell_type": "markdown",
   "id": "01fce07b-00c6-493f-8469-3ecb8d2a47c7",
   "metadata": {},
   "source": [
    "In 2022 heart disease was the number 1 cause of death in the United States.\n",
    "\n",
    "According to the [CDC](https://www.cdc.gov/heart-disease/data-research/facts-stats/index.html): \n",
    "\n",
    "- Heart disease is the leading cause of death for men, women, and people of most racial and ethnic groups[$ ^1$](https://wonder.cdc.gov/mcd.html)\n",
    "- One person dies every 33 seconds from cardiovascular disease[$ ^1$](https://wonder.cdc.gov/mcd.html)\n",
    "- In the United States, someone has a heart attack every 40 seconds.[$ ^2$](https://pubmed.ncbi.nlm.nih.gov/36695182/)\n",
    "  "
   ]
  },
  {
   "cell_type": "markdown",
   "id": "052f7987",
   "metadata": {},
   "source": [
    "## Questions "
   ]
  },
  {
   "cell_type": "markdown",
   "id": "2763d97a-8658-4ed0-93f1-74ec311b6f1e",
   "metadata": {},
   "source": [
    "This project focuses on answering the following questions:\n",
    "\n",
    "1. Does the risk of mortality increase with different CVD's?\n",
    "\n",
    "2. What risk factors (varaibles) have more influence in predicting mortality caused by heart failure?"
   ]
  },
  {
   "cell_type": "markdown",
   "id": "a75a4f0e-2b2c-4574-9cc4-87947b1e4fda",
   "metadata": {},
   "source": [
    "## Understanding the Dataset"
   ]
  },
  {
   "cell_type": "markdown",
   "id": "57d0b5ca-71e0-4bbf-8b9c-64851d84e47b",
   "metadata": {},
   "source": [
    "#### This dataset contains 12 variables that can be used to predict mortality by heart failure"
   ]
  },
  {
   "cell_type": "markdown",
   "id": "d6d9dcf8-78f2-4ece-9644-cb4513765250",
   "metadata": {},
   "source": [
    "Independent Variables: \n",
    "- Age: age of the patient (years)\n",
    "- Anaemia: decrease of red blood cells or hemoglobin (boolean)\n",
    "- High blood pressure: if the patient has hypertension (boolean)\n",
    "- Creatinine phosphokinase (CPK): level of the CPK enzyme in the blood (mcg/L)\n",
    "- Ejection fraction: percentage of blood leaving the heart at each contraction (percentage)\n",
    "- Gender: woman or man (binary)\n",
    "- Serum creatinine: level of serum creatinine in the blood (mg/dL)\n",
    "- Serum sodium: level of serum sodium in the blood (mEq/L)\n",
    "- Smoking: if the patient smokes or not (boolean)\n",
    "- Platelets: platelets in the blood (kilo platelets/mL)\n",
    "- Diabetes: if the patient has diabetes (boolean)\n",
    "\n",
    "Dependent Variable:\n",
    "- Death event: if the patient died during the follow-up period (boolean)\n",
    "\n",
    "Dataset utilized is from [Kaggle](https://www.kaggle.com/datasets/whenamancodes/heart-failure-clinical-records/data)."
   ]
  },
  {
   "cell_type": "markdown",
   "id": "2bceaad7-fdcd-40f5-a101-b37e72eb7a41",
   "metadata": {},
   "source": [
    "## Loading Libraries & Dataset"
   ]
  },
  {
   "cell_type": "code",
   "execution_count": 12,
   "id": "eb6b528b",
   "metadata": {},
   "outputs": [],
   "source": [
    "# Loading libraries \n",
    "\n",
    "import pandas as pd\n",
    "import numpy as np\n",
    "\n",
    "import seaborn as sns\n",
    "import matplotlib.pyplot as plt\n",
    "import plotly.express as px\n",
    "from sklearn.model_selection import train_test_split\n",
    "from sklearn.preprocessing import StandardScaler\n",
    "from sklearn.linear_model import LogisticRegression\n",
    "from sklearn.discriminant_analysis import LinearDiscriminantAnalysis\n",
    "from sklearn.metrics import classification_report, accuracy_score\n",
    "from sklearn.metrics import confusion_matrix\n"
   ]
  },
  {
   "cell_type": "code",
   "execution_count": 14,
   "id": "31f09d6f",
   "metadata": {
    "scrolled": true
   },
   "outputs": [
    {
     "data": {
      "text/html": [
       "<div>\n",
       "<style scoped>\n",
       "    .dataframe tbody tr th:only-of-type {\n",
       "        vertical-align: middle;\n",
       "    }\n",
       "\n",
       "    .dataframe tbody tr th {\n",
       "        vertical-align: top;\n",
       "    }\n",
       "\n",
       "    .dataframe thead th {\n",
       "        text-align: right;\n",
       "    }\n",
       "</style>\n",
       "<table border=\"1\" class=\"dataframe\">\n",
       "  <thead>\n",
       "    <tr style=\"text-align: right;\">\n",
       "      <th></th>\n",
       "      <th>age</th>\n",
       "      <th>anaemia</th>\n",
       "      <th>creatinine_phosphokinase</th>\n",
       "      <th>diabetes</th>\n",
       "      <th>ejection_fraction</th>\n",
       "      <th>high_blood_pressure</th>\n",
       "      <th>platelets</th>\n",
       "      <th>serum_creatinine</th>\n",
       "      <th>serum_sodium</th>\n",
       "      <th>gender</th>\n",
       "      <th>smoking</th>\n",
       "      <th>time</th>\n",
       "      <th>DEATH_EVENT</th>\n",
       "    </tr>\n",
       "  </thead>\n",
       "  <tbody>\n",
       "    <tr>\n",
       "      <th>0</th>\n",
       "      <td>75.0</td>\n",
       "      <td>0</td>\n",
       "      <td>582</td>\n",
       "      <td>0</td>\n",
       "      <td>20</td>\n",
       "      <td>1</td>\n",
       "      <td>265000.00</td>\n",
       "      <td>1.9</td>\n",
       "      <td>130</td>\n",
       "      <td>1</td>\n",
       "      <td>0</td>\n",
       "      <td>4</td>\n",
       "      <td>1</td>\n",
       "    </tr>\n",
       "    <tr>\n",
       "      <th>1</th>\n",
       "      <td>55.0</td>\n",
       "      <td>0</td>\n",
       "      <td>7861</td>\n",
       "      <td>0</td>\n",
       "      <td>38</td>\n",
       "      <td>0</td>\n",
       "      <td>263358.03</td>\n",
       "      <td>1.1</td>\n",
       "      <td>136</td>\n",
       "      <td>1</td>\n",
       "      <td>0</td>\n",
       "      <td>6</td>\n",
       "      <td>1</td>\n",
       "    </tr>\n",
       "    <tr>\n",
       "      <th>2</th>\n",
       "      <td>65.0</td>\n",
       "      <td>0</td>\n",
       "      <td>146</td>\n",
       "      <td>0</td>\n",
       "      <td>20</td>\n",
       "      <td>0</td>\n",
       "      <td>162000.00</td>\n",
       "      <td>1.3</td>\n",
       "      <td>129</td>\n",
       "      <td>1</td>\n",
       "      <td>1</td>\n",
       "      <td>7</td>\n",
       "      <td>1</td>\n",
       "    </tr>\n",
       "    <tr>\n",
       "      <th>3</th>\n",
       "      <td>50.0</td>\n",
       "      <td>1</td>\n",
       "      <td>111</td>\n",
       "      <td>0</td>\n",
       "      <td>20</td>\n",
       "      <td>0</td>\n",
       "      <td>210000.00</td>\n",
       "      <td>1.9</td>\n",
       "      <td>137</td>\n",
       "      <td>1</td>\n",
       "      <td>0</td>\n",
       "      <td>7</td>\n",
       "      <td>1</td>\n",
       "    </tr>\n",
       "    <tr>\n",
       "      <th>4</th>\n",
       "      <td>65.0</td>\n",
       "      <td>1</td>\n",
       "      <td>160</td>\n",
       "      <td>1</td>\n",
       "      <td>20</td>\n",
       "      <td>0</td>\n",
       "      <td>327000.00</td>\n",
       "      <td>2.7</td>\n",
       "      <td>116</td>\n",
       "      <td>0</td>\n",
       "      <td>0</td>\n",
       "      <td>8</td>\n",
       "      <td>1</td>\n",
       "    </tr>\n",
       "  </tbody>\n",
       "</table>\n",
       "</div>"
      ],
      "text/plain": [
       "    age  anaemia  creatinine_phosphokinase  diabetes  ejection_fraction  \\\n",
       "0  75.0        0                       582         0                 20   \n",
       "1  55.0        0                      7861         0                 38   \n",
       "2  65.0        0                       146         0                 20   \n",
       "3  50.0        1                       111         0                 20   \n",
       "4  65.0        1                       160         1                 20   \n",
       "\n",
       "   high_blood_pressure  platelets  serum_creatinine  serum_sodium  gender  \\\n",
       "0                    1  265000.00               1.9           130       1   \n",
       "1                    0  263358.03               1.1           136       1   \n",
       "2                    0  162000.00               1.3           129       1   \n",
       "3                    0  210000.00               1.9           137       1   \n",
       "4                    0  327000.00               2.7           116       0   \n",
       "\n",
       "   smoking  time  DEATH_EVENT  \n",
       "0        0     4            1  \n",
       "1        0     6            1  \n",
       "2        1     7            1  \n",
       "3        0     7            1  \n",
       "4        0     8            1  "
      ]
     },
     "execution_count": 14,
     "metadata": {},
     "output_type": "execute_result"
    }
   ],
   "source": [
    "heart_failure = pd.read_csv('heart_failure.csv')\n",
    "heart_failure.rename(columns={'sex': 'gender'}, inplace=True)\n",
    "heart_failure.head()"
   ]
  },
  {
   "cell_type": "code",
   "execution_count": 16,
   "id": "d1c70fa9",
   "metadata": {},
   "outputs": [
    {
     "name": "stdout",
     "output_type": "stream",
     "text": [
      "Index(['age', 'anaemia', 'creatinine_phosphokinase', 'diabetes',\n",
      "       'ejection_fraction', 'high_blood_pressure', 'platelets',\n",
      "       'serum_creatinine', 'serum_sodium', 'gender', 'smoking', 'time',\n",
      "       'DEATH_EVENT'],\n",
      "      dtype='object')\n"
     ]
    }
   ],
   "source": [
    "print(heart_failure.columns)"
   ]
  },
  {
   "cell_type": "code",
   "execution_count": 167,
   "id": "c62f36c5",
   "metadata": {
    "scrolled": true
   },
   "outputs": [
    {
     "name": "stdout",
     "output_type": "stream",
     "text": [
      "<class 'pandas.core.frame.DataFrame'>\n",
      "RangeIndex: 299 entries, 0 to 298\n",
      "Data columns (total 13 columns):\n",
      " #   Column                    Non-Null Count  Dtype  \n",
      "---  ------                    --------------  -----  \n",
      " 0   age                       299 non-null    float64\n",
      " 1   anaemia                   299 non-null    int64  \n",
      " 2   creatinine_phosphokinase  299 non-null    int64  \n",
      " 3   diabetes                  299 non-null    int64  \n",
      " 4   ejection_fraction         299 non-null    int64  \n",
      " 5   high_blood_pressure       299 non-null    int64  \n",
      " 6   platelets                 299 non-null    float64\n",
      " 7   serum_creatinine          299 non-null    float64\n",
      " 8   serum_sodium              299 non-null    int64  \n",
      " 9   gender                    299 non-null    int64  \n",
      " 10  smoking                   299 non-null    int64  \n",
      " 11  time                      299 non-null    int64  \n",
      " 12  DEATH_EVENT               299 non-null    int64  \n",
      "dtypes: float64(3), int64(10)\n",
      "memory usage: 30.5 KB\n"
     ]
    }
   ],
   "source": [
    "heart_failure = heart_failure.drop_duplicates()\n",
    "heart_failure.info()"
   ]
  },
  {
   "cell_type": "code",
   "execution_count": 112,
   "id": "769776d4",
   "metadata": {
    "scrolled": true
   },
   "outputs": [
    {
     "data": {
      "text/plain": [
       "age                         0\n",
       "anaemia                     0\n",
       "creatinine_phosphokinase    0\n",
       "diabetes                    0\n",
       "ejection_fraction           0\n",
       "high_blood_pressure         0\n",
       "platelets                   0\n",
       "serum_creatinine            0\n",
       "serum_sodium                0\n",
       "gender                      0\n",
       "smoking                     0\n",
       "time                        0\n",
       "DEATH_EVENT                 0\n",
       "dtype: int64"
      ]
     },
     "execution_count": 112,
     "metadata": {},
     "output_type": "execute_result"
    }
   ],
   "source": [
    "heart_failure.isnull().sum()"
   ]
  },
  {
   "cell_type": "code",
   "execution_count": 169,
   "id": "4dfebfb1",
   "metadata": {},
   "outputs": [],
   "source": [
    "# Time is a variable I am not focusing on in this data set.\n",
    "heart_failure = heart_failure.drop(['time'], axis=1)"
   ]
  },
  {
   "cell_type": "markdown",
   "id": "c4f94a6e",
   "metadata": {},
   "source": [
    "# Exploratory Data Analysis"
   ]
  },
  {
   "cell_type": "code",
   "execution_count": 171,
   "id": "619f1605",
   "metadata": {},
   "outputs": [
    {
     "data": {
      "text/html": [
       "<div>\n",
       "<style scoped>\n",
       "    .dataframe tbody tr th:only-of-type {\n",
       "        vertical-align: middle;\n",
       "    }\n",
       "\n",
       "    .dataframe tbody tr th {\n",
       "        vertical-align: top;\n",
       "    }\n",
       "\n",
       "    .dataframe thead th {\n",
       "        text-align: right;\n",
       "    }\n",
       "</style>\n",
       "<table border=\"1\" class=\"dataframe\">\n",
       "  <thead>\n",
       "    <tr style=\"text-align: right;\">\n",
       "      <th></th>\n",
       "      <th>age</th>\n",
       "      <th>anaemia</th>\n",
       "      <th>creatinine_phosphokinase</th>\n",
       "      <th>diabetes</th>\n",
       "      <th>ejection_fraction</th>\n",
       "      <th>high_blood_pressure</th>\n",
       "      <th>platelets</th>\n",
       "      <th>serum_creatinine</th>\n",
       "      <th>serum_sodium</th>\n",
       "      <th>gender</th>\n",
       "      <th>smoking</th>\n",
       "      <th>DEATH_EVENT</th>\n",
       "    </tr>\n",
       "  </thead>\n",
       "  <tbody>\n",
       "    <tr>\n",
       "      <th>count</th>\n",
       "      <td>299.000000</td>\n",
       "      <td>299.000000</td>\n",
       "      <td>299.000000</td>\n",
       "      <td>299.000000</td>\n",
       "      <td>299.000000</td>\n",
       "      <td>299.000000</td>\n",
       "      <td>299.000000</td>\n",
       "      <td>299.00000</td>\n",
       "      <td>299.000000</td>\n",
       "      <td>299.000000</td>\n",
       "      <td>299.00000</td>\n",
       "      <td>299.00000</td>\n",
       "    </tr>\n",
       "    <tr>\n",
       "      <th>mean</th>\n",
       "      <td>60.833893</td>\n",
       "      <td>0.431438</td>\n",
       "      <td>581.839465</td>\n",
       "      <td>0.418060</td>\n",
       "      <td>38.083612</td>\n",
       "      <td>0.351171</td>\n",
       "      <td>263358.029264</td>\n",
       "      <td>1.39388</td>\n",
       "      <td>136.625418</td>\n",
       "      <td>0.648829</td>\n",
       "      <td>0.32107</td>\n",
       "      <td>0.32107</td>\n",
       "    </tr>\n",
       "    <tr>\n",
       "      <th>std</th>\n",
       "      <td>11.894809</td>\n",
       "      <td>0.496107</td>\n",
       "      <td>970.287881</td>\n",
       "      <td>0.494067</td>\n",
       "      <td>11.834841</td>\n",
       "      <td>0.478136</td>\n",
       "      <td>97804.236869</td>\n",
       "      <td>1.03451</td>\n",
       "      <td>4.412477</td>\n",
       "      <td>0.478136</td>\n",
       "      <td>0.46767</td>\n",
       "      <td>0.46767</td>\n",
       "    </tr>\n",
       "    <tr>\n",
       "      <th>min</th>\n",
       "      <td>40.000000</td>\n",
       "      <td>0.000000</td>\n",
       "      <td>23.000000</td>\n",
       "      <td>0.000000</td>\n",
       "      <td>14.000000</td>\n",
       "      <td>0.000000</td>\n",
       "      <td>25100.000000</td>\n",
       "      <td>0.50000</td>\n",
       "      <td>113.000000</td>\n",
       "      <td>0.000000</td>\n",
       "      <td>0.00000</td>\n",
       "      <td>0.00000</td>\n",
       "    </tr>\n",
       "    <tr>\n",
       "      <th>25%</th>\n",
       "      <td>51.000000</td>\n",
       "      <td>0.000000</td>\n",
       "      <td>116.500000</td>\n",
       "      <td>0.000000</td>\n",
       "      <td>30.000000</td>\n",
       "      <td>0.000000</td>\n",
       "      <td>212500.000000</td>\n",
       "      <td>0.90000</td>\n",
       "      <td>134.000000</td>\n",
       "      <td>0.000000</td>\n",
       "      <td>0.00000</td>\n",
       "      <td>0.00000</td>\n",
       "    </tr>\n",
       "    <tr>\n",
       "      <th>50%</th>\n",
       "      <td>60.000000</td>\n",
       "      <td>0.000000</td>\n",
       "      <td>250.000000</td>\n",
       "      <td>0.000000</td>\n",
       "      <td>38.000000</td>\n",
       "      <td>0.000000</td>\n",
       "      <td>262000.000000</td>\n",
       "      <td>1.10000</td>\n",
       "      <td>137.000000</td>\n",
       "      <td>1.000000</td>\n",
       "      <td>0.00000</td>\n",
       "      <td>0.00000</td>\n",
       "    </tr>\n",
       "    <tr>\n",
       "      <th>75%</th>\n",
       "      <td>70.000000</td>\n",
       "      <td>1.000000</td>\n",
       "      <td>582.000000</td>\n",
       "      <td>1.000000</td>\n",
       "      <td>45.000000</td>\n",
       "      <td>1.000000</td>\n",
       "      <td>303500.000000</td>\n",
       "      <td>1.40000</td>\n",
       "      <td>140.000000</td>\n",
       "      <td>1.000000</td>\n",
       "      <td>1.00000</td>\n",
       "      <td>1.00000</td>\n",
       "    </tr>\n",
       "    <tr>\n",
       "      <th>max</th>\n",
       "      <td>95.000000</td>\n",
       "      <td>1.000000</td>\n",
       "      <td>7861.000000</td>\n",
       "      <td>1.000000</td>\n",
       "      <td>80.000000</td>\n",
       "      <td>1.000000</td>\n",
       "      <td>850000.000000</td>\n",
       "      <td>9.40000</td>\n",
       "      <td>148.000000</td>\n",
       "      <td>1.000000</td>\n",
       "      <td>1.00000</td>\n",
       "      <td>1.00000</td>\n",
       "    </tr>\n",
       "  </tbody>\n",
       "</table>\n",
       "</div>"
      ],
      "text/plain": [
       "              age     anaemia  creatinine_phosphokinase    diabetes  \\\n",
       "count  299.000000  299.000000                299.000000  299.000000   \n",
       "mean    60.833893    0.431438                581.839465    0.418060   \n",
       "std     11.894809    0.496107                970.287881    0.494067   \n",
       "min     40.000000    0.000000                 23.000000    0.000000   \n",
       "25%     51.000000    0.000000                116.500000    0.000000   \n",
       "50%     60.000000    0.000000                250.000000    0.000000   \n",
       "75%     70.000000    1.000000                582.000000    1.000000   \n",
       "max     95.000000    1.000000               7861.000000    1.000000   \n",
       "\n",
       "       ejection_fraction  high_blood_pressure      platelets  \\\n",
       "count         299.000000           299.000000     299.000000   \n",
       "mean           38.083612             0.351171  263358.029264   \n",
       "std            11.834841             0.478136   97804.236869   \n",
       "min            14.000000             0.000000   25100.000000   \n",
       "25%            30.000000             0.000000  212500.000000   \n",
       "50%            38.000000             0.000000  262000.000000   \n",
       "75%            45.000000             1.000000  303500.000000   \n",
       "max            80.000000             1.000000  850000.000000   \n",
       "\n",
       "       serum_creatinine  serum_sodium      gender    smoking  DEATH_EVENT  \n",
       "count         299.00000    299.000000  299.000000  299.00000    299.00000  \n",
       "mean            1.39388    136.625418    0.648829    0.32107      0.32107  \n",
       "std             1.03451      4.412477    0.478136    0.46767      0.46767  \n",
       "min             0.50000    113.000000    0.000000    0.00000      0.00000  \n",
       "25%             0.90000    134.000000    0.000000    0.00000      0.00000  \n",
       "50%             1.10000    137.000000    1.000000    0.00000      0.00000  \n",
       "75%             1.40000    140.000000    1.000000    1.00000      1.00000  \n",
       "max             9.40000    148.000000    1.000000    1.00000      1.00000  "
      ]
     },
     "execution_count": 171,
     "metadata": {},
     "output_type": "execute_result"
    }
   ],
   "source": [
    "# Taking a closer look at the data to get the total amount of patients, age range, and mean age\n",
    "heart_failure.describe()"
   ]
  },
  {
   "cell_type": "code",
   "execution_count": 173,
   "id": "199324eb",
   "metadata": {},
   "outputs": [
    {
     "data": {
      "image/png": "[encoded data removed]",
      "text/plain": [
       "<Figure size 800x600 with 1 Axes>"
      ]
     },
     "metadata": {},
     "output_type": "display_data"
    }
   ],
   "source": [
    "#Visual for age distribution of patients\n",
    "plt.figure(figsize=(8,6))\n",
    "plt.hist(heart_failure['age'], bins=15, color='steelblue', edgecolor='black')\n",
    "plt.title('Age Distribution of Patients')\n",
    "plt.xlabel('Age')\n",
    "plt.ylabel('Frequency')\n",
    "plt.grid(False)\n",
    "plt.show()"
   ]
  },
  {
   "cell_type": "markdown",
   "id": "a09880a8-e6d2-443e-b851-00e4609afb77",
   "metadata": {},
   "source": [
    "In the data set: \n",
    "- There are a total of 299 patients\n",
    "- The age ranges from 40 to 95 years old\n",
    "- The mean age is 61 years old\n"
   ]
  },
  {
   "cell_type": "code",
   "execution_count": 177,
   "id": "57b44dec",
   "metadata": {},
   "outputs": [
    {
     "data": {
      "text/plain": [
       "gender\n",
       "1    194\n",
       "0    105\n",
       "Name: count, dtype: int64"
      ]
     },
     "execution_count": 177,
     "metadata": {},
     "output_type": "execute_result"
    }
   ],
   "source": [
    "#Gender distribution in this data set\n",
    "gender_distribution = heart_failure['gender'].value_counts()\n",
    "gender_distribution"
   ]
  },
  {
   "cell_type": "code",
   "execution_count": 179,
   "id": "cb476190",
   "metadata": {
    "scrolled": true
   },
   "outputs": [
    {
     "data": {
      "image/png": "[encoded data removed]",
      "text/plain": [
       "<Figure size 600x400 with 1 Axes>"
      ]
     },
     "metadata": {},
     "output_type": "display_data"
    }
   ],
   "source": [
    "#Gender distribution visual\n",
    "plt.figure(figsize=(6,4))\n",
    "gender_distribution.plot(kind='bar', color=['powderblue', 'plum'], edgecolor='black')\n",
    "plt.title('Gender Distribution of Patients')\n",
    "plt.xlabel('Gender (Female = 0, Male = 1)')\n",
    "plt.ylabel('Count')\n",
    "plt.xticks(rotation=0)\n",
    "plt.grid(False)\n",
    "plt.show()"
   ]
  },
  {
   "cell_type": "markdown",
   "id": "1a08cef3-6fc9-4f68-a5c9-40a3420669ff",
   "metadata": {},
   "source": [
    "In this data set there is a total of 194 male patients and 105 female patients."
   ]
  },
  {
   "cell_type": "code",
   "execution_count": 181,
   "id": "82130fa5",
   "metadata": {
    "scrolled": true
   },
   "outputs": [
    {
     "data": {
      "text/plain": [
       "DEATH_EVENT\n",
       "0    0.67893\n",
       "1    0.32107\n",
       "Name: proportion, dtype: float64"
      ]
     },
     "execution_count": 181,
     "metadata": {},
     "output_type": "execute_result"
    }
   ],
   "source": [
    "#Survival rate in data set\n",
    "heart_failure['DEATH_EVENT'].value_counts(normalize=True)"
   ]
  },
  {
   "cell_type": "code",
   "execution_count": 183,
   "id": "57b0c286",
   "metadata": {},
   "outputs": [
    {
     "data": {
      "text/plain": [
       "Text(0, 0.5, 'Count')"
      ]
     },
     "execution_count": 183,
     "metadata": {},
     "output_type": "execute_result"
    },
    {
     "data": {
      "image/png": "[encoded data removed]",
      "text/plain": [
       "<Figure size 640x480 with 1 Axes>"
      ]
     },
     "metadata": {},
     "output_type": "display_data"
    }
   ],
   "source": [
    "sns.countplot(heart_failure, x = 'DEATH_EVENT')\n",
    "\n",
    "plt.title('Death Events')\n",
    "plt.xlabel('Death Event (Alive = 0, Dead = 1)')\n",
    "plt.ylabel('Count')\n"
   ]
  },
  {
   "cell_type": "markdown",
   "id": "3476d934-7cdf-4626-88c7-11c9fe2a9be7",
   "metadata": {},
   "source": [
    "- In the data set 67.89 % of the patients survived while 32.11 % of the patients passed away.\n",
    "\n",
    "- The dataset is skewed towards non-deaths, with about two-thirds of the patients surviving and one-third experiencing a death event.\n"
   ]
  },
  {
   "cell_type": "markdown",
   "id": "3f55e2ea-bd4c-4c4e-9593-3df16876e2d7",
   "metadata": {},
   "source": [
    "#### Q1: Does the risk of mortality increase with different CVD's?"
   ]
  },
  {
   "cell_type": "code",
   "execution_count": 185,
   "id": "f1c3ab77",
   "metadata": {},
   "outputs": [
    {
     "name": "stdout",
     "output_type": "stream",
     "text": [
      "Counts:\n",
      "diabetes       0   1\n",
      "DEATH_EVENT         \n",
      "0            118  85\n",
      "1             56  40\n",
      "\n",
      "Percentages:\n",
      "diabetes             0          1\n",
      "DEATH_EVENT                      \n",
      "0            58.128079  41.871921\n",
      "1            58.333333  41.666667\n"
     ]
    }
   ],
   "source": [
    "#How many people with diabetes passed away?\n",
    "counts = heart_failure.groupby(['DEATH_EVENT', 'diabetes']).size().unstack()\n",
    "percentages = counts.div(counts.sum(axis=1), axis=0) * 100\n",
    "print(\"Counts:\")\n",
    "print(counts)\n",
    "print(\"\\nPercentages:\")\n",
    "print(percentages)\n"
   ]
  },
  {
   "cell_type": "code",
   "execution_count": 187,
   "id": "9dafc03c",
   "metadata": {
    "scrolled": true
   },
   "outputs": [
    {
     "data": {
      "text/plain": [
       "Text(0, 0.5, 'Number of Patients')"
      ]
     },
     "execution_count": 187,
     "metadata": {},
     "output_type": "execute_result"
    },
    {
     "data": {
      "image/png": "[encoded data removed]",
      "text/plain": [
       "<Figure size 640x480 with 1 Axes>"
      ]
     },
     "metadata": {},
     "output_type": "display_data"
    }
   ],
   "source": [
    "sns.countplot(heart_failure, x= 'DEATH_EVENT', hue= 'diabetes', palette=['#1E66A6','#750000'])\n",
    "\n",
    "plt.title('Diabetes and Death Event', fontsize=12)\n",
    "plt.xlabel('Death Event (Alive = 0, Dead = 1)', fontsize=12)\n",
    "plt.ylabel('Number of Patients', fontsize=12)"
   ]
  },
  {
   "cell_type": "markdown",
   "id": "b766fbe3-8570-49ae-a904-4fb8cdb423e7",
   "metadata": {},
   "source": [
    "125 patients have diabetes, 32% of patients with diabetes passed away"
   ]
  },
  {
   "cell_type": "code",
   "execution_count": 189,
   "id": "b5c70c22",
   "metadata": {},
   "outputs": [
    {
     "name": "stdout",
     "output_type": "stream",
     "text": [
      "Counts:\n",
      "high_blood_pressure    0   1\n",
      "DEATH_EVENT                 \n",
      "0                    137  66\n",
      "1                     57  39\n",
      "\n",
      "Percentages:\n",
      "high_blood_pressure          0          1\n",
      "DEATH_EVENT                              \n",
      "0                    67.487685  32.512315\n",
      "1                    59.375000  40.625000\n"
     ]
    }
   ],
   "source": [
    "#How many people with hypertension passed away?\n",
    "counts = heart_failure.groupby(['DEATH_EVENT', 'high_blood_pressure']).size().unstack()\n",
    "percentages = counts.div(counts.sum(axis=1), axis=0) * 100\n",
    "print(\"Counts:\")\n",
    "print(counts)\n",
    "print(\"\\nPercentages:\")\n",
    "print(percentages)"
   ]
  },
  {
   "cell_type": "code",
   "execution_count": 191,
   "id": "d938dd9d",
   "metadata": {
    "scrolled": true
   },
   "outputs": [
    {
     "data": {
      "text/plain": [
       "Text(0, 0.5, 'Number of Patients')"
      ]
     },
     "execution_count": 191,
     "metadata": {},
     "output_type": "execute_result"
    },
    {
     "data": {
      "image/png": "[encoded data removed]",
      "text/plain": [
       "<Figure size 640x480 with 1 Axes>"
      ]
     },
     "metadata": {},
     "output_type": "display_data"
    }
   ],
   "source": [
    "sns.countplot(heart_failure, x= 'DEATH_EVENT', hue= 'high_blood_pressure', palette=['#1E66A6','#750000'])\n",
    "\n",
    "plt.title('High Blood Pressure and Death Event', fontsize=12)\n",
    "plt.xlabel('Death Event (Alive = 0, Dead = 1)', fontsize=12)\n",
    "plt.ylabel('Number of Patients', fontsize=12)"
   ]
  },
  {
   "cell_type": "markdown",
   "id": "b9775e9d-e94c-4acd-8af8-57d27ef014bb",
   "metadata": {},
   "source": [
    "105 patients have hypertension, 37% of patients with hypertension passed away"
   ]
  },
  {
   "cell_type": "code",
   "execution_count": 193,
   "id": "930d2b8f",
   "metadata": {},
   "outputs": [
    {
     "name": "stdout",
     "output_type": "stream",
     "text": [
      "Counts:\n",
      "high_blood_pressure    0   1\n",
      "diabetes                    \n",
      "0                    112  62\n",
      "1                     82  43\n"
     ]
    }
   ],
   "source": [
    "#Patients who had both CVDs\n",
    "counts = heart_failure.groupby(['diabetes', 'high_blood_pressure']).size().unstack()\n",
    "percentages = counts.div(counts.sum(axis=1), axis=0) * 100\n",
    "print(\"Counts:\")\n",
    "print(counts)\n"
   ]
  },
  {
   "cell_type": "code",
   "execution_count": 195,
   "id": "5478674e",
   "metadata": {},
   "outputs": [
    {
     "data": {
      "text/plain": [
       "43"
      ]
     },
     "execution_count": 195,
     "metadata": {},
     "output_type": "execute_result"
    }
   ],
   "source": [
    "#Total number of patients with both CVDs\n",
    "total_diabetes_high = heart_failure[(heart_failure['diabetes'] == 1) & \n",
    "                                            (heart_failure['high_blood_pressure'] == 1)].shape[0]\n",
    "total_diabetes_high"
   ]
  },
  {
   "cell_type": "code",
   "execution_count": 197,
   "id": "6ab674b9",
   "metadata": {},
   "outputs": [
    {
     "data": {
      "text/plain": [
       "17"
      ]
     },
     "execution_count": 197,
     "metadata": {},
     "output_type": "execute_result"
    }
   ],
   "source": [
    "#Patients who passed away with both CVDs\n",
    "death_diabetes_high = heart_failure[(heart_failure['diabetes'] == 1) & \n",
    "                                                  (heart_failure['high_blood_pressure'] == 1) & \n",
    "                                                  (heart_failure['DEATH_EVENT'] == 1)].shape[0]\n",
    "death_diabetes_high"
   ]
  },
  {
   "cell_type": "code",
   "execution_count": 199,
   "id": "bc6ff0aa",
   "metadata": {
    "scrolled": true
   },
   "outputs": [
    {
     "data": {
      "image/png": "[encoded data removed]",
      "text/plain": [
       "<Figure size 800x600 with 1 Axes>"
      ]
     },
     "metadata": {},
     "output_type": "display_data"
    }
   ],
   "source": [
    "labels = ['Both Diabetes & Hypertension', 'Both & Passed Away']\n",
    "values = [total_diabetes_high, death_diabetes_high]\n",
    "\n",
    "plt.figure(figsize=(8,6))\n",
    "plt.bar(labels, values, color=['steelblue', 'maroon'], edgecolor='black')\n",
    "plt.title('Patients with Both Diabetes and Hypertension', fontsize = 12)\n",
    "plt.ylabel('Number of Patients', fontsize = 12)\n",
    "plt.show()\n"
   ]
  },
  {
   "cell_type": "markdown",
   "id": "46f2f76b-ca80-48ac-8836-0fbc8b9d0536",
   "metadata": {},
   "source": [
    "43 patients have both diabetes and hypertension, 39% of patients with both passed away"
   ]
  },
  {
   "cell_type": "markdown",
   "id": "9b1145e6",
   "metadata": {},
   "source": [
    "# Logistic Regression"
   ]
  },
  {
   "cell_type": "markdown",
   "id": "033a4943-d620-4c03-a36a-80e9fd321715",
   "metadata": {},
   "source": [
    "#### Q2: What risk factors (variables) have more influence in predicting death caused by heart failure?\n",
    "\n",
    "I am using logistic regression to understand how each risk factor plays into whether a patient will pass away or not.\n"
   ]
  },
  {
   "cell_type": "code",
   "execution_count": 44,
   "id": "7bd2a33a",
   "metadata": {
    "scrolled": true
   },
   "outputs": [
    {
     "name": "stdout",
     "output_type": "stream",
     "text": [
      "Original coefficients: \n",
      "[-0.9603511] [[ 0.68532964  0.10389607  0.26824117  0.01060951 -0.85975493  0.23556383\n",
      "  -0.06747849  0.673231   -0.15945695 -0.21869228 -0.02736957]]\n",
      "Exponentiated coefficients: \n",
      "[0.38275848] [[1.98442587 1.10948514 1.30766247 1.01066599 0.4232658  1.26562216\n",
      "  0.93474782 1.96056168 0.85260667 0.80356895 0.97300158]]\n"
     ]
    }
   ],
   "source": [
    "#Running my logistic regression\n",
    "y = heart_failure['DEATH_EVENT']\n",
    "\n",
    "# Predictors\n",
    "X = heart_failure[['age', 'anaemia', 'creatinine_phosphokinase', 'diabetes',\n",
    "       'ejection_fraction', 'high_blood_pressure', 'platelets',\n",
    "       'serum_creatinine', 'serum_sodium', 'gender', 'smoking']]\n",
    "\n",
    "#Training and testing\n",
    "X_train, X_test, y_train, y_test = train_test_split(X, y, test_size=0.2, random_state=1234)\n",
    "\n",
    "#Scaling\n",
    "scaler = StandardScaler()\n",
    "X_train_scaled = scaler.fit_transform(X_train)\n",
    "X_test_scaled = scaler.transform(X_test)\n",
    "\n",
    "#Fitting the model\n",
    "logreg =  LogisticRegression() \n",
    "logreg.fit(X_train_scaled, y_train)\n",
    "\n",
    "\n",
    "# Getting parameters\n",
    "print('Original coefficients: ')\n",
    "print(logreg.intercept_, logreg.coef_)\n",
    "\n",
    "# Exps:\n",
    "print('Exponentiated coefficients: ')\n",
    "print(np.exp(logreg.intercept_), np.exp(logreg.coef_))"
   ]
  },
  {
   "cell_type": "code",
   "execution_count": 231,
   "id": "55cbffef",
   "metadata": {},
   "outputs": [
    {
     "data": {
      "image/png": "[encoded data removed]",
      "text/plain": [
       "<Figure size 1000x600 with 1 Axes>"
      ]
     },
     "metadata": {},
     "output_type": "display_data"
    }
   ],
   "source": [
    "#Plotting the Logistic Regression Coefficient \n",
    "feature_names = X.columns\n",
    "coefficients = np.exp(logreg.coef_)[0]\n",
    "\n",
    "plt.figure(figsize=(10, 6))\n",
    "plt.barh(feature_names, coefficients, color='steelblue')\n",
    "plt.xlabel('Coefficient Value')\n",
    "plt.ylabel('Risk Factor')\n",
    "plt.title('Logistic Regression Coefficients for Heart Failure Prediction (Odds Ratios)')\n",
    "plt.axvline(0, color='black', linewidth=0.5)\n",
    "plt.axvline(1, color='black', linewidth=0.5)\n",
    "plt.tight_layout()\n",
    "plt.show()"
   ]
  },
  {
   "cell_type": "markdown",
   "id": "6f286f7a",
   "metadata": {},
   "source": [
    "Interpretation of the exponentiated coefficients (odds ratio) :\n",
    "\n",
    "- For every additional year in age, the odds of death increase by 98%.\n",
    "- For each unit increase in  serum creatinine levels the odds of death increase by 96%\n",
    "- High blood pressure increases the odds of death by 27%.\n",
    "- For each unit increase in CPK, the odds of death increase by 31%.\n",
    "- Being male reduces the odds of death by 20%\n",
    "- For each unit increase in ejection fraction, the odds of death decrease by 58%..\n"
   ]
  },
  {
   "cell_type": "markdown",
   "id": "9f8462ce-1b1b-450e-8667-6b8b9644a4e0",
   "metadata": {},
   "source": [
    "## Evaluating Performance"
   ]
  },
  {
   "cell_type": "code",
   "execution_count": 69,
   "id": "96e662b3",
   "metadata": {},
   "outputs": [
    {
     "data": {
      "text/html": [
       "<style>#sk-container-id-4 {\n",
       "  /* Definition of color scheme common for light and dark mode */\n",
       "  --sklearn-color-text: black;\n",
       "  --sklearn-color-line: gray;\n",
       "  /* Definition of color scheme for unfitted estimators */\n",
       "  --sklearn-color-unfitted-level-0: #fff5e6;\n",
       "  --sklearn-color-unfitted-level-1: #f6e4d2;\n",
       "  --sklearn-color-unfitted-level-2: #ffe0b3;\n",
       "  --sklearn-color-unfitted-level-3: chocolate;\n",
       "  /* Definition of color scheme for fitted estimators */\n",
       "  --sklearn-color-fitted-level-0: #f0f8ff;\n",
       "  --sklearn-color-fitted-level-1: #d4ebff;\n",
       "  --sklearn-color-fitted-level-2: #b3dbfd;\n",
       "  --sklearn-color-fitted-level-3: cornflowerblue;\n",
       "\n",
       "  /* Specific color for light theme */\n",
       "  --sklearn-color-text-on-default-background: var(--sg-text-color, var(--theme-code-foreground, var(--jp-content-font-color1, black)));\n",
       "  --sklearn-color-background: var(--sg-background-color, var(--theme-background, var(--jp-layout-color0, white)));\n",
       "  --sklearn-color-border-box: var(--sg-text-color, var(--theme-code-foreground, var(--jp-content-font-color1, black)));\n",
       "  --sklearn-color-icon: #696969;\n",
       "\n",
       "  @media (prefers-color-scheme: dark) {\n",
       "    /* Redefinition of color scheme for dark theme */\n",
       "    --sklearn-color-text-on-default-background: var(--sg-text-color, var(--theme-code-foreground, var(--jp-content-font-color1, white)));\n",
       "    --sklearn-color-background: var(--sg-background-color, var(--theme-background, var(--jp-layout-color0, #111)));\n",
       "    --sklearn-color-border-box: var(--sg-text-color, var(--theme-code-foreground, var(--jp-content-font-color1, white)));\n",
       "    --sklearn-color-icon: #878787;\n",
       "  }\n",
       "}\n",
       "\n",
       "#sk-container-id-4 {\n",
       "  color: var(--sklearn-color-text);\n",
       "}\n",
       "\n",
       "#sk-container-id-4 pre {\n",
       "  padding: 0;\n",
       "}\n",
       "\n",
       "#sk-container-id-4 input.sk-hidden--visually {\n",
       "  border: 0;\n",
       "  clip: rect(1px 1px 1px 1px);\n",
       "  clip: rect(1px, 1px, 1px, 1px);\n",
       "  height: 1px;\n",
       "  margin: -1px;\n",
       "  overflow: hidden;\n",
       "  padding: 0;\n",
       "  position: absolute;\n",
       "  width: 1px;\n",
       "}\n",
       "\n",
       "#sk-container-id-4 div.sk-dashed-wrapped {\n",
       "  border: 1px dashed var(--sklearn-color-line);\n",
       "  margin: 0 0.4em 0.5em 0.4em;\n",
       "  box-sizing: border-box;\n",
       "  padding-bottom: 0.4em;\n",
       "  background-color: var(--sklearn-color-background);\n",
       "}\n",
       "\n",
       "#sk-container-id-4 div.sk-container {\n",
       "  /* jupyter's `normalize.less` sets `[hidden] { display: none; }`\n",
       "     but bootstrap.min.css set `[hidden] { display: none !important; }`\n",
       "     so we also need the `!important` here to be able to override the\n",
       "     default hidden behavior on the sphinx rendered scikit-learn.org.\n",
       "     See: https://github.com/scikit-learn/scikit-learn/issues/21755 */\n",
       "  display: inline-block !important;\n",
       "  position: relative;\n",
       "}\n",
       "\n",
       "#sk-container-id-4 div.sk-text-repr-fallback {\n",
       "  display: none;\n",
       "}\n",
       "\n",
       "div.sk-parallel-item,\n",
       "div.sk-serial,\n",
       "div.sk-item {\n",
       "  /* draw centered vertical line to link estimators */\n",
       "  background-image: linear-gradient(var(--sklearn-color-text-on-default-background), var(--sklearn-color-text-on-default-background));\n",
       "  background-size: 2px 100%;\n",
       "  background-repeat: no-repeat;\n",
       "  background-position: center center;\n",
       "}\n",
       "\n",
       "/* Parallel-specific style estimator block */\n",
       "\n",
       "#sk-container-id-4 div.sk-parallel-item::after {\n",
       "  content: \"\";\n",
       "  width: 100%;\n",
       "  border-bottom: 2px solid var(--sklearn-color-text-on-default-background);\n",
       "  flex-grow: 1;\n",
       "}\n",
       "\n",
       "#sk-container-id-4 div.sk-parallel {\n",
       "  display: flex;\n",
       "  align-items: stretch;\n",
       "  justify-content: center;\n",
       "  background-color: var(--sklearn-color-background);\n",
       "  position: relative;\n",
       "}\n",
       "\n",
       "#sk-container-id-4 div.sk-parallel-item {\n",
       "  display: flex;\n",
       "  flex-direction: column;\n",
       "}\n",
       "\n",
       "#sk-container-id-4 div.sk-parallel-item:first-child::after {\n",
       "  align-self: flex-end;\n",
       "  width: 50%;\n",
       "}\n",
       "\n",
       "#sk-container-id-4 div.sk-parallel-item:last-child::after {\n",
       "  align-self: flex-start;\n",
       "  width: 50%;\n",
       "}\n",
       "\n",
       "#sk-container-id-4 div.sk-parallel-item:only-child::after {\n",
       "  width: 0;\n",
       "}\n",
       "\n",
       "/* Serial-specific style estimator block */\n",
       "\n",
       "#sk-container-id-4 div.sk-serial {\n",
       "  display: flex;\n",
       "  flex-direction: column;\n",
       "  align-items: center;\n",
       "  background-color: var(--sklearn-color-background);\n",
       "  padding-right: 1em;\n",
       "  padding-left: 1em;\n",
       "}\n",
       "\n",
       "\n",
       "/* Toggleable style: style used for estimator/Pipeline/ColumnTransformer box that is\n",
       "clickable and can be expanded/collapsed.\n",
       "- Pipeline and ColumnTransformer use this feature and define the default style\n",
       "- Estimators will overwrite some part of the style using the `sk-estimator` class\n",
       "*/\n",
       "\n",
       "/* Pipeline and ColumnTransformer style (default) */\n",
       "\n",
       "#sk-container-id-4 div.sk-toggleable {\n",
       "  /* Default theme specific background. It is overwritten whether we have a\n",
       "  specific estimator or a Pipeline/ColumnTransformer */\n",
       "  background-color: var(--sklearn-color-background);\n",
       "}\n",
       "\n",
       "/* Toggleable label */\n",
       "#sk-container-id-4 label.sk-toggleable__label {\n",
       "  cursor: pointer;\n",
       "  display: block;\n",
       "  width: 100%;\n",
       "  margin-bottom: 0;\n",
       "  padding: 0.5em;\n",
       "  box-sizing: border-box;\n",
       "  text-align: center;\n",
       "}\n",
       "\n",
       "#sk-container-id-4 label.sk-toggleable__label-arrow:before {\n",
       "  /* Arrow on the left of the label */\n",
       "  content: \"▸\";\n",
       "  float: left;\n",
       "  margin-right: 0.25em;\n",
       "  color: var(--sklearn-color-icon);\n",
       "}\n",
       "\n",
       "#sk-container-id-4 label.sk-toggleable__label-arrow:hover:before {\n",
       "  color: var(--sklearn-color-text);\n",
       "}\n",
       "\n",
       "/* Toggleable content - dropdown */\n",
       "\n",
       "#sk-container-id-4 div.sk-toggleable__content {\n",
       "  max-height: 0;\n",
       "  max-width: 0;\n",
       "  overflow: hidden;\n",
       "  text-align: left;\n",
       "  /* unfitted */\n",
       "  background-color: var(--sklearn-color-unfitted-level-0);\n",
       "}\n",
       "\n",
       "#sk-container-id-4 div.sk-toggleable__content.fitted {\n",
       "  /* fitted */\n",
       "  background-color: var(--sklearn-color-fitted-level-0);\n",
       "}\n",
       "\n",
       "#sk-container-id-4 div.sk-toggleable__content pre {\n",
       "  margin: 0.2em;\n",
       "  border-radius: 0.25em;\n",
       "  color: var(--sklearn-color-text);\n",
       "  /* unfitted */\n",
       "  background-color: var(--sklearn-color-unfitted-level-0);\n",
       "}\n",
       "\n",
       "#sk-container-id-4 div.sk-toggleable__content.fitted pre {\n",
       "  /* unfitted */\n",
       "  background-color: var(--sklearn-color-fitted-level-0);\n",
       "}\n",
       "\n",
       "#sk-container-id-4 input.sk-toggleable__control:checked~div.sk-toggleable__content {\n",
       "  /* Expand drop-down */\n",
       "  max-height: 200px;\n",
       "  max-width: 100%;\n",
       "  overflow: auto;\n",
       "}\n",
       "\n",
       "#sk-container-id-4 input.sk-toggleable__control:checked~label.sk-toggleable__label-arrow:before {\n",
       "  content: \"▾\";\n",
       "}\n",
       "\n",
       "/* Pipeline/ColumnTransformer-specific style */\n",
       "\n",
       "#sk-container-id-4 div.sk-label input.sk-toggleable__control:checked~label.sk-toggleable__label {\n",
       "  color: var(--sklearn-color-text);\n",
       "  background-color: var(--sklearn-color-unfitted-level-2);\n",
       "}\n",
       "\n",
       "#sk-container-id-4 div.sk-label.fitted input.sk-toggleable__control:checked~label.sk-toggleable__label {\n",
       "  background-color: var(--sklearn-color-fitted-level-2);\n",
       "}\n",
       "\n",
       "/* Estimator-specific style */\n",
       "\n",
       "/* Colorize estimator box */\n",
       "#sk-container-id-4 div.sk-estimator input.sk-toggleable__control:checked~label.sk-toggleable__label {\n",
       "  /* unfitted */\n",
       "  background-color: var(--sklearn-color-unfitted-level-2);\n",
       "}\n",
       "\n",
       "#sk-container-id-4 div.sk-estimator.fitted input.sk-toggleable__control:checked~label.sk-toggleable__label {\n",
       "  /* fitted */\n",
       "  background-color: var(--sklearn-color-fitted-level-2);\n",
       "}\n",
       "\n",
       "#sk-container-id-4 div.sk-label label.sk-toggleable__label,\n",
       "#sk-container-id-4 div.sk-label label {\n",
       "  /* The background is the default theme color */\n",
       "  color: var(--sklearn-color-text-on-default-background);\n",
       "}\n",
       "\n",
       "/* On hover, darken the color of the background */\n",
       "#sk-container-id-4 div.sk-label:hover label.sk-toggleable__label {\n",
       "  color: var(--sklearn-color-text);\n",
       "  background-color: var(--sklearn-color-unfitted-level-2);\n",
       "}\n",
       "\n",
       "/* Label box, darken color on hover, fitted */\n",
       "#sk-container-id-4 div.sk-label.fitted:hover label.sk-toggleable__label.fitted {\n",
       "  color: var(--sklearn-color-text);\n",
       "  background-color: var(--sklearn-color-fitted-level-2);\n",
       "}\n",
       "\n",
       "/* Estimator label */\n",
       "\n",
       "#sk-container-id-4 div.sk-label label {\n",
       "  font-family: monospace;\n",
       "  font-weight: bold;\n",
       "  display: inline-block;\n",
       "  line-height: 1.2em;\n",
       "}\n",
       "\n",
       "#sk-container-id-4 div.sk-label-container {\n",
       "  text-align: center;\n",
       "}\n",
       "\n",
       "/* Estimator-specific */\n",
       "#sk-container-id-4 div.sk-estimator {\n",
       "  font-family: monospace;\n",
       "  border: 1px dotted var(--sklearn-color-border-box);\n",
       "  border-radius: 0.25em;\n",
       "  box-sizing: border-box;\n",
       "  margin-bottom: 0.5em;\n",
       "  /* unfitted */\n",
       "  background-color: var(--sklearn-color-unfitted-level-0);\n",
       "}\n",
       "\n",
       "#sk-container-id-4 div.sk-estimator.fitted {\n",
       "  /* fitted */\n",
       "  background-color: var(--sklearn-color-fitted-level-0);\n",
       "}\n",
       "\n",
       "/* on hover */\n",
       "#sk-container-id-4 div.sk-estimator:hover {\n",
       "  /* unfitted */\n",
       "  background-color: var(--sklearn-color-unfitted-level-2);\n",
       "}\n",
       "\n",
       "#sk-container-id-4 div.sk-estimator.fitted:hover {\n",
       "  /* fitted */\n",
       "  background-color: var(--sklearn-color-fitted-level-2);\n",
       "}\n",
       "\n",
       "/* Specification for estimator info (e.g. \"i\" and \"?\") */\n",
       "\n",
       "/* Common style for \"i\" and \"?\" */\n",
       "\n",
       ".sk-estimator-doc-link,\n",
       "a:link.sk-estimator-doc-link,\n",
       "a:visited.sk-estimator-doc-link {\n",
       "  float: right;\n",
       "  font-size: smaller;\n",
       "  line-height: 1em;\n",
       "  font-family: monospace;\n",
       "  background-color: var(--sklearn-color-background);\n",
       "  border-radius: 1em;\n",
       "  height: 1em;\n",
       "  width: 1em;\n",
       "  text-decoration: none !important;\n",
       "  margin-left: 1ex;\n",
       "  /* unfitted */\n",
       "  border: var(--sklearn-color-unfitted-level-1) 1pt solid;\n",
       "  color: var(--sklearn-color-unfitted-level-1);\n",
       "}\n",
       "\n",
       ".sk-estimator-doc-link.fitted,\n",
       "a:link.sk-estimator-doc-link.fitted,\n",
       "a:visited.sk-estimator-doc-link.fitted {\n",
       "  /* fitted */\n",
       "  border: var(--sklearn-color-fitted-level-1) 1pt solid;\n",
       "  color: var(--sklearn-color-fitted-level-1);\n",
       "}\n",
       "\n",
       "/* On hover */\n",
       "div.sk-estimator:hover .sk-estimator-doc-link:hover,\n",
       ".sk-estimator-doc-link:hover,\n",
       "div.sk-label-container:hover .sk-estimator-doc-link:hover,\n",
       ".sk-estimator-doc-link:hover {\n",
       "  /* unfitted */\n",
       "  background-color: var(--sklearn-color-unfitted-level-3);\n",
       "  color: var(--sklearn-color-background);\n",
       "  text-decoration: none;\n",
       "}\n",
       "\n",
       "div.sk-estimator.fitted:hover .sk-estimator-doc-link.fitted:hover,\n",
       ".sk-estimator-doc-link.fitted:hover,\n",
       "div.sk-label-container:hover .sk-estimator-doc-link.fitted:hover,\n",
       ".sk-estimator-doc-link.fitted:hover {\n",
       "  /* fitted */\n",
       "  background-color: var(--sklearn-color-fitted-level-3);\n",
       "  color: var(--sklearn-color-background);\n",
       "  text-decoration: none;\n",
       "}\n",
       "\n",
       "/* Span, style for the box shown on hovering the info icon */\n",
       ".sk-estimator-doc-link span {\n",
       "  display: none;\n",
       "  z-index: 9999;\n",
       "  position: relative;\n",
       "  font-weight: normal;\n",
       "  right: .2ex;\n",
       "  padding: .5ex;\n",
       "  margin: .5ex;\n",
       "  width: min-content;\n",
       "  min-width: 20ex;\n",
       "  max-width: 50ex;\n",
       "  color: var(--sklearn-color-text);\n",
       "  box-shadow: 2pt 2pt 4pt #999;\n",
       "  /* unfitted */\n",
       "  background: var(--sklearn-color-unfitted-level-0);\n",
       "  border: .5pt solid var(--sklearn-color-unfitted-level-3);\n",
       "}\n",
       "\n",
       ".sk-estimator-doc-link.fitted span {\n",
       "  /* fitted */\n",
       "  background: var(--sklearn-color-fitted-level-0);\n",
       "  border: var(--sklearn-color-fitted-level-3);\n",
       "}\n",
       "\n",
       ".sk-estimator-doc-link:hover span {\n",
       "  display: block;\n",
       "}\n",
       "\n",
       "/* \"?\"-specific style due to the `<a>` HTML tag */\n",
       "\n",
       "#sk-container-id-4 a.estimator_doc_link {\n",
       "  float: right;\n",
       "  font-size: 1rem;\n",
       "  line-height: 1em;\n",
       "  font-family: monospace;\n",
       "  background-color: var(--sklearn-color-background);\n",
       "  border-radius: 1rem;\n",
       "  height: 1rem;\n",
       "  width: 1rem;\n",
       "  text-decoration: none;\n",
       "  /* unfitted */\n",
       "  color: var(--sklearn-color-unfitted-level-1);\n",
       "  border: var(--sklearn-color-unfitted-level-1) 1pt solid;\n",
       "}\n",
       "\n",
       "#sk-container-id-4 a.estimator_doc_link.fitted {\n",
       "  /* fitted */\n",
       "  border: var(--sklearn-color-fitted-level-1) 1pt solid;\n",
       "  color: var(--sklearn-color-fitted-level-1);\n",
       "}\n",
       "\n",
       "/* On hover */\n",
       "#sk-container-id-4 a.estimator_doc_link:hover {\n",
       "  /* unfitted */\n",
       "  background-color: var(--sklearn-color-unfitted-level-3);\n",
       "  color: var(--sklearn-color-background);\n",
       "  text-decoration: none;\n",
       "}\n",
       "\n",
       "#sk-container-id-4 a.estimator_doc_link.fitted:hover {\n",
       "  /* fitted */\n",
       "  background-color: var(--sklearn-color-fitted-level-3);\n",
       "}\n",
       "</style><div id=\"sk-container-id-4\" class=\"sk-top-container\"><div class=\"sk-text-repr-fallback\"><pre>LogisticRegression(max_iter=10000)</pre><b>In a Jupyter environment, please rerun this cell to show the HTML representation or trust the notebook. <br />On GitHub, the HTML representation is unable to render, please try loading this page with nbviewer.org.</b></div><div class=\"sk-container\" hidden><div class=\"sk-item\"><div class=\"sk-estimator fitted sk-toggleable\"><input class=\"sk-toggleable__control sk-hidden--visually\" id=\"sk-estimator-id-4\" type=\"checkbox\" checked><label for=\"sk-estimator-id-4\" class=\"sk-toggleable__label fitted sk-toggleable__label-arrow fitted\">&nbsp;&nbsp;LogisticRegression<a class=\"sk-estimator-doc-link fitted\" rel=\"noreferrer\" target=\"_blank\" href=\"https://scikit-learn.org/1.4/modules/generated/sklearn.linear_model.LogisticRegression.html\">?<span>Documentation for LogisticRegression</span></a><span class=\"sk-estimator-doc-link fitted\">i<span>Fitted</span></span></label><div class=\"sk-toggleable__content fitted\"><pre>LogisticRegression(max_iter=10000)</pre></div> </div></div></div></div>"
      ],
      "text/plain": [
       "LogisticRegression(max_iter=10000)"
      ]
     },
     "execution_count": 69,
     "metadata": {},
     "output_type": "execute_result"
    }
   ],
   "source": [
    "#Linear Discriminant Analysis\n",
    "\n",
    "# Target variable\n",
    "y = heart_failure['DEATH_EVENT']\n",
    "\n",
    "# Predictors\n",
    "X = heart_failure[['age', 'anaemia', 'creatinine_phosphokinase', 'diabetes',\n",
    "       'ejection_fraction', 'high_blood_pressure', 'platelets',\n",
    "       'serum_creatinine', 'serum_sodium', 'gender', 'smoking']]\n",
    "\n",
    "# Loading the model, please understand the choice of solver + iter\n",
    "logreg =  LogisticRegression(solver='lbfgs', max_iter=10000)\n",
    "\n",
    "# Fitting the models\n",
    "logreg.fit(X, y)\n"
   ]
  },
  {
   "cell_type": "code",
   "execution_count": 59,
   "id": "14b47724",
   "metadata": {},
   "outputs": [
    {
     "name": "stdout",
     "output_type": "stream",
     "text": [
      "[[183  20]\n",
      " [ 51  45]]\n"
     ]
    }
   ],
   "source": [
    "#Confusion Matrix\n",
    "y_pred_logreg = logreg.predict(X)\n",
    "\n",
    "# Logistic Regression\n",
    "print(confusion_matrix(y, y_pred_logreg))"
   ]
  },
  {
   "cell_type": "code",
   "execution_count": 67,
   "id": "f5160bd1",
   "metadata": {},
   "outputs": [
    {
     "name": "stdout",
     "output_type": "stream",
     "text": [
      "[[183  20]\n",
      " [ 51  45]]\n"
     ]
    }
   ],
   "source": [
    "#Confusion Matrix\n",
    "\n",
    "# Predictions\n",
    "y_pred_logreg = logreg.predict(X)\n",
    "y_pred_ldan = ldan.predict(X)\n",
    "\n",
    "# Logistic Regression\n",
    "print(confusion_matrix(y, y_pred_logreg))"
   ]
  },
  {
   "cell_type": "code",
   "execution_count": 65,
   "id": "86dc7d50",
   "metadata": {},
   "outputs": [
    {
     "data": {
      "image/png": "[encoded data removed]",
      "text/plain": [
       "<Figure size 1200x600 with 1 Axes>"
      ]
     },
     "metadata": {},
     "output_type": "display_data"
    }
   ],
   "source": [
    "# Confusion matrices for both models\n",
    "cm_logreg = confusion_matrix(y, y_pred_logreg)\n",
    "cm_ldan = confusion_matrix(y, y_pred_ldan)\n",
    "\n",
    "# Plotting the confusion matrix for Logistic Regression\n",
    "plt.figure(figsize=(12, 6))\n",
    "\n",
    "plt.subplot(1, 2, 1)\n",
    "sns.heatmap(cm_logreg, annot=True, fmt='d', cmap='Blues', cbar=False)\n",
    "plt.title('Logistic Regression Confusion Matrix')\n",
    "plt.xlabel('Predicted')\n",
    "plt.ylabel('Actual')\n",
    "\n",
    "plt.tight_layout()\n",
    "plt.show()"
   ]
  },
  {
   "cell_type": "markdown",
   "id": "24bde892-bd78-4d37-a685-a5e72d989292",
   "metadata": {},
   "source": [
    "- True Negatives — The model correctly predicted 183 patients who survived (i.e., no death event).\n",
    "- False Positives  — The model incorrectly predicted that 20 patients would die, but they survived.\n",
    "- False Negatives — The model incorrectly predicted that 51 patients would survive, but they actually died.\n",
    "- True Positives — The model correctly predicted 45 patients who passed away.\n"
   ]
  },
  {
   "cell_type": "code",
   "execution_count": 251,
   "id": "05e3e7c0",
   "metadata": {},
   "outputs": [
    {
     "data": {
      "text/plain": [
       "DEATH_EVENT\n",
       "0    0.67893\n",
       "1    0.32107\n",
       "Name: proportion, dtype: float64"
      ]
     },
     "execution_count": 251,
     "metadata": {},
     "output_type": "execute_result"
    }
   ],
   "source": [
    "y.value_counts(normalize = True)"
   ]
  },
  {
   "cell_type": "markdown",
   "id": "94671184",
   "metadata": {},
   "source": [
    "67% of the dataset instances are labeled as no death (0), and 33% are labeled as death (1). This is shown to be an issue in the classification report below."
   ]
  },
  {
   "cell_type": "code",
   "execution_count": 253,
   "id": "9fc444a6",
   "metadata": {
    "scrolled": true
   },
   "outputs": [
    {
     "name": "stdout",
     "output_type": "stream",
     "text": [
      "              precision    recall  f1-score   support\n",
      "\n",
      "           0       0.78      0.90      0.84       203\n",
      "           1       0.69      0.47      0.56        96\n",
      "\n",
      "    accuracy                           0.76       299\n",
      "   macro avg       0.74      0.69      0.70       299\n",
      "weighted avg       0.75      0.76      0.75       299\n",
      "\n"
     ]
    }
   ],
   "source": [
    "# Logistic Classification Report\n",
    "print(classification_report(y, y_pred_logreg))"
   ]
  },
  {
   "cell_type": "markdown",
   "id": "72a6d9f2-7c59-4060-9c42-9ade5a6f7356",
   "metadata": {},
   "source": [
    "Interpreting the classification report :\n",
    "- A f1-score of 0.84 means the model is doing well at identifying those who survived.\n",
    "- The model correctly predicted the outcome (survived or died) for 76% of the patients.\n",
    "- For patients who died (Class 1), the model has a good precision (69%), meaning that when it predicts death, it's usually correct. However, the low recall (47%) indicates that it misses a large portion of actual deaths.\n"
   ]
  },
  {
   "cell_type": "markdown",
   "id": "b365248d-9a92-42e7-8743-b521e76a930c",
   "metadata": {},
   "source": [
    "## Conclusion"
   ]
  },
  {
   "cell_type": "markdown",
   "id": "3302f2e7-812b-41aa-8129-4cd00b5b066c",
   "metadata": {},
   "source": [
    "Q1: Does the risk of dying increase with different CVD’s?\n",
    "\n",
    "Patients with high blood pressure have a higher risk of passing away than patients with diabetes.\n",
    "If you have both high blood pressure and diabetes you are at higher risk of passing away.\n",
    "\n",
    "Q2: What risk factors(variables) have more influence in predicting death caused by heart failure?\n",
    "\n",
    "Age, serum creatinine levels,  high blood pressure, and creatinine phosphokinase (CPK) are significant variables to predict heart failure.\n",
    "\n",
    "Improvements:\n",
    "- Could have chosen a better data set as the model does not predict those who died as well as those who survived.\n",
    "- P-value for certain variables, such as smoking, to assess the statistical significance of the predictor\n",
    "- Explore a data set with more variables (ex. hyperlipidemia, obesity, excessive alcohol use)\n"
   ]
  },
  {
   "cell_type": "markdown",
   "id": "18ae7e4d-b49e-4cd0-aa7c-5eb1b4b631de",
   "metadata": {},
   "source": [
    "## References\n",
    "\n",
    "1. [National Center for Health Statistics](https://wonder.cdc.gov/mcd.html)\n",
    "2. [A Report From the American Heart Association](https://pubmed.ncbi.nlm.nih.gov/36695182/)"
   ]
  }
 ],
 "metadata": {
  "kernelspec": {
   "display_name": "Python 3 (ipykernel)",
   "language": "python",
   "name": "python3"
  },
  "language_info": {
   "codemirror_mode": {
    "name": "ipython",
    "version": 3
   },
   "file_extension": ".py",
   "mimetype": "text/x-python",
   "name": "python",
   "nbconvert_exporter": "python",
   "pygments_lexer": "ipython3",
   "version": "3.12.4"
  }
 },
 "nbformat": 4,
 "nbformat_minor": 5
}
